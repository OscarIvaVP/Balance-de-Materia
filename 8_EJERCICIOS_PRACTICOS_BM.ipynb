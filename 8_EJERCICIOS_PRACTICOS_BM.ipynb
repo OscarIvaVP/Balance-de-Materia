{
  "nbformat": 4,
  "nbformat_minor": 0,
  "metadata": {
    "colab": {
      "provenance": [],
      "authorship_tag": "ABX9TyO9bWLLvN70tZyG+xXzUK2H"
    },
    "kernelspec": {
      "name": "python3",
      "display_name": "Python 3"
    },
    "language_info": {
      "name": "python"
    }
  },
  "cells": [
    {
      "cell_type": "markdown",
      "source": [
        "# **BALANCE DE MATERIA EN LA AGROINDUSTRIA**"
      ],
      "metadata": {
        "id": "ke6_75fq0w6i"
      }
    },
    {
      "cell_type": "markdown",
      "source": [
        "# **Ejercicio 1**\n",
        "\n",
        "Luego de procesar una fruta para obtener 50 kg pulpa, se midieron los grados °Brix de dicha pulpa, y se obtuvo una cantidad de sólidos disueltos (azúcar) de 7%, sin embargo, para mantener la calidad del producto, la empresa debe ajustar la pulpa hasta 10 °Brix. Para ello, se recomienda agregar una cantidad de azúcar adecuada. ¿Cuánta es la cantidad de azúcar que debemos agregar?"
      ],
      "metadata": {
        "id": "-aIIgp-M05c8"
      }
    },
    {
      "cell_type": "code",
      "execution_count": 1,
      "metadata": {
        "colab": {
          "base_uri": "https://localhost:8080/"
        },
        "id": "rO7rt7bP0ohF",
        "outputId": "21a75e89-5697-4eb5-eacc-d5e7b0cec285"
      },
      "outputs": [
        {
          "output_type": "stream",
          "name": "stdout",
          "text": [
            "Para una pulpa de 50.00 kg con 0.07 grados Brix, para obtener una pulpa de 0.10 grados Brix se le debe añadir 1.67 kg de azucar\n"
          ]
        }
      ],
      "source": [
        "# BALANCE DE MATERIA\n",
        "\n",
        "m1 = 50\n",
        "x1 = 0.07\n",
        "y1 = 1-x1\n",
        "m2 = 0\n",
        "x2 = 1\n",
        "y2 = 1-x2\n",
        "x3=0.1\n",
        "y3=1-x3\n",
        "m3= ((m1*y1)-(m2*y2))/y3\n",
        "m2 = m3 - m1\n",
        "\n",
        "# print(f\"El resultado de m2 es {m2:.2f} kg de azucar y m3 {m3:.2f} kg pulpa\")\n",
        "print(f\"Para una pulpa de {m1:.2f} kg con {x1:.2f} grados Brix, para obtener una pulpa de {x3:.2f} grados Brix se le debe añadir {m2:.2f} kg de azucar\")"
      ]
    },
    {
      "cell_type": "markdown",
      "source": [
        "# **Ejercicio 2**\n",
        "\n",
        "Luego de procesar una fruta para obtener 250 kg pulpa, se midieron los grados °Brix de dicha pulpa, y se obtuvo una cantidad de sólidos disueltos (azúcar) de 8%, sin embargo, para mantener la calidad del producto, la empresa debe ajustar la pulpa hasta 11 °Brix. Para ello, se recomienda un proceso de concentración de azúcar por evaporación. ¿Cuánta es la cantidad de agua que debemos evaporarse de la pulpa?"
      ],
      "metadata": {
        "id": "q-_3hOFM1JAb"
      }
    },
    {
      "cell_type": "code",
      "source": [
        "# BALANCE DE MATERIA\n",
        "\n",
        "m1 = 250\n",
        "x1 = 0.08\n",
        "y1 = 1-x1\n",
        "m2 = 0\n",
        "x2 = 1\n",
        "y2 = 1-x2\n",
        "x3=0.11\n",
        "y3=1-x3\n",
        "m3= ((m1*x1)-(m2*x2))/x3\n",
        "m2 = m1 - m3\n",
        "\n",
        "print(f\"El resultado de m2 es {m2:.2f} kg y m3 {m3:.2f} kg\")\n",
        "print(f\"Para una pulpa de {m1:.2f} kg con {x1:.2f} grados Brix, para obtener una pulpa de {x3:.2f} grados Brix se le debe evaporar {m2:.2f} kg de agua\")"
      ],
      "metadata": {
        "id": "eVal3rSBUJzp",
        "colab": {
          "base_uri": "https://localhost:8080/"
        },
        "outputId": "89b3fd30-1353-4a3f-f906-a951ea65be90"
      },
      "execution_count": 2,
      "outputs": [
        {
          "output_type": "stream",
          "name": "stdout",
          "text": [
            "El resultado de m2 es 68.18 kg y m3 181.82 kg\n",
            "Para una pulpa de 250.00 kg con 0.08 grados Brix, para obtener una pulpa de 0.11 grados Brix se le debe evaporar 68.18 kg de agua\n"
          ]
        }
      ]
    },
    {
      "cell_type": "markdown",
      "source": [
        "# **Ejercicio 3**\n",
        "\n",
        "En la elaboración de un jugo de naranja, se presente concentrar 1000 kg de zumo obtenido con grados Brix 12.5%, esté zumo al filtrarse se obtiene 800 kg de jugo filtrado y 200 kg de pulpa. Así, el jugo filtrado se concentra en un evaporador al vacío para obtener un jugo concentrado de 58 °Brix. Para mejorar el jugo, se considera agregar los 200 kg de pulpa al juego evaporado. Finalmente, se obtiene un juego con 42°Brix. Determinar: a) La concentración del jugo filtrado. b) La cantidad de jugo final y c) Los °Brix de la pulpa.\n"
      ],
      "metadata": {
        "id": "ZF-Ye0XfX6sU"
      }
    },
    {
      "cell_type": "code",
      "source": [
        "# BALANCE DE MATERIA\n",
        "\n",
        "m1 = 1000\n",
        "x1 = 0.125\n",
        "y1 = 1-x1\n",
        "m2 = 800\n",
        "x2 = 0\n",
        "y2 = 0\n",
        "m3 = m1 - m2\n",
        "x3 = 0\n",
        "y3 = 0\n",
        "m4 = 0\n",
        "x4 = 0\n",
        "y4 = 1\n",
        "m5 = 0\n",
        "x5 = 0.58\n",
        "y5 = 1-x5\n",
        "m6 = 0\n",
        "x6 = 0.42\n",
        "y6 = 1-x6\n",
        "\n",
        "#Balance general\n",
        "# m1 = m4 + m6\n",
        "m6 = (m1*x1)/x6\n",
        "m4 = m1 - m6\n",
        "\n",
        "#Balance intermedios\n",
        "#m2 = m4 + m5\n",
        "m5 = m2 - m4\n",
        "x2 = (m5*x5)/m2\n",
        "\n",
        "#Balance final\n",
        "#m3 + m5 = m6\n",
        "x3 = ((m6*x6)-(m5*x5))/m3\n",
        "\n",
        "print(f\"m1 = {m1:.2f} kg\")\n",
        "print(f\"x1 = {x1:.2f} grados Brix\")\n",
        "print(f\"m2 = {m2:.2f} kg\")\n",
        "print(f\"x2 = {x2:.2f} grados Brix\")\n",
        "print(f\"m3 = {m3:.2f} kg\")\n",
        "print(f\"x3 = {x3:.2f} grados Brix\")\n",
        "print(f\"m4 = {m4:.2f} kg\")\n",
        "print(f\"x4 = {x4:.2f} grados Brix\")\n",
        "print(f\"m5 = {m5:.2f} kg\")\n",
        "print(f\"x5 = {x5:.2f} grados Brix\")\n",
        "print(f\"m6 = {m6:.2f} kg\")\n",
        "print(f\"x6 = {x6:.2f} grados Brix\")"
      ],
      "metadata": {
        "id": "s4RP8Gr2YTzw",
        "colab": {
          "base_uri": "https://localhost:8080/"
        },
        "outputId": "14646cae-b54c-4c5f-e691-f345296ce6f1"
      },
      "execution_count": 3,
      "outputs": [
        {
          "output_type": "stream",
          "name": "stdout",
          "text": [
            "m1 = 1000.00 kg\n",
            "x1 = 0.12 grados Brix\n",
            "m2 = 800.00 kg\n",
            "x2 = 0.07 grados Brix\n",
            "m3 = 200.00 kg\n",
            "x3 = 0.34 grados Brix\n",
            "m4 = 702.38 kg\n",
            "x4 = 0.00 grados Brix\n",
            "m5 = 97.62 kg\n",
            "x5 = 0.58 grados Brix\n",
            "m6 = 297.62 kg\n",
            "x6 = 0.42 grados Brix\n"
          ]
        }
      ]
    },
    {
      "cell_type": "markdown",
      "source": [
        "# **Ejercicio 4**\n",
        "\n",
        "Para la elaboración de un néctar, se cuenta con 660 kg de pulpa con 7 °Brix, se tiene como propósito producir 800 kg de néctar con 12°Brix  ¿Cuánta es la cantidad de agua y azúcar que debemos agregar al proceso?"
      ],
      "metadata": {
        "id": "WhZJKtRD-p4A"
      }
    },
    {
      "cell_type": "code",
      "source": [
        "# BALANCE DE MATERIA\n",
        "\n",
        "m1 = 660\n",
        "x1 = 0.07\n",
        "m2 = 0\n",
        "x2 = 0\n",
        "m3 = 0\n",
        "x3 = 1\n",
        "m4 = 800\n",
        "x4 = 0.12\n",
        "\n",
        "# m1 + m2 + m3 = m4\n",
        "m3 = ((m4*x4)-(m1*x1))/x3\n",
        "\n",
        "m2 = m4 - m1 - m3\n",
        "\n",
        "print(f\"m2 = {m2:.2f} kg\")\n",
        "print(f\"m3 = {m3:.2f} kg\")"
      ],
      "metadata": {
        "id": "4AVBomAt-nyR",
        "colab": {
          "base_uri": "https://localhost:8080/"
        },
        "outputId": "f958f554-a089-40c4-ea30-c4b5b96b0adb"
      },
      "execution_count": 4,
      "outputs": [
        {
          "output_type": "stream",
          "name": "stdout",
          "text": [
            "m2 = 90.20 kg\n",
            "m3 = 49.80 kg\n"
          ]
        }
      ]
    },
    {
      "cell_type": "markdown",
      "source": [
        "# **Ejercicio 5**\n",
        "\n",
        "Para la elaboración de un néctar, se pretende obtener 500 kg de producto, el cual debe contener 20% de pulpa y 12 °Brix. Si la pulpa con la que se va elaborar contiene 14° Brix, ¿Cuánta es la cantidad de agua, azúcar y pulpa que debemos agregar al proceso?"
      ],
      "metadata": {
        "id": "p8wei2iYKE4x"
      }
    },
    {
      "cell_type": "code",
      "source": [
        "# BALANCE DE MATERIA\n",
        "\n",
        "m1 = 0\n",
        "x1 = 0.14\n",
        "m2 = 0\n",
        "x2 = 0\n",
        "m3 = 0\n",
        "x3 = 1\n",
        "m4 = 500\n",
        "x4 = 0.12\n",
        "Cm1m4 = 0.2  #% de pulpa en el producto final\n",
        "m1 = m4*Cm1m4\n",
        "\n",
        "#Balance general\n",
        "# m1 + m2 + m3 = m4\n",
        "\n",
        "m3 = ((m4*x4) - (m1*x1))/x3\n",
        "\n",
        "m2 = m4 - m1 - m3\n",
        "\n",
        "print(f\"m2 = {m2:.2f} kg\")\n",
        "print(f\"m3 = {m3:.2f} kg\")\n"
      ],
      "metadata": {
        "id": "wvoD1BFxKRpk",
        "colab": {
          "base_uri": "https://localhost:8080/"
        },
        "outputId": "0b29000c-6c3b-4693-c236-8347c4a5ea31"
      },
      "execution_count": 5,
      "outputs": [
        {
          "output_type": "stream",
          "name": "stdout",
          "text": [
            "m2 = 354.00 kg\n",
            "m3 = 46.00 kg\n"
          ]
        }
      ]
    },
    {
      "cell_type": "markdown",
      "source": [
        "# **Ejercicio 6**\n",
        "\n",
        "En la elaboración de mermelada en una empresa, se mezcla fruta que contiene 12° Brix, azúcar a proporción de 1.12 kg azúcar/kg pulpa y pectina en proporción de 0.002 kg pectina/kg pulpa.  La Mezcla pasa por un proceso de cocción para producir mermelada con 60° Brix. Tomando como base 800 kg de pulpa, determine:  a) kg de mezcla obtenida, b) kg de agua evaporada durante la cocción y c) kg de mermelada producida.\n"
      ],
      "metadata": {
        "id": "EvjYIdlYMTSV"
      }
    },
    {
      "cell_type": "code",
      "source": [
        "# BALANCE DE MATERIA\n",
        "\n",
        "m1 = 800\n",
        "x1 = 0.12\n",
        "y1 = 1-x1\n",
        "razonP = 0.002\n",
        "m2 = razonP*m1\n",
        "x2 = 1\n",
        "y2 = 0\n",
        "razonA = 1.12\n",
        "m3 = razonA*m1\n",
        "x3 = 1\n",
        "y3 = 0\n",
        "m4 = 0\n",
        "x4 = 0\n",
        "y4 = 0\n",
        "m5 = 0\n",
        "x5 = 0\n",
        "y5 = 1\n",
        "m6 = 0\n",
        "x6 = 0.6\n",
        "y6 = 1-x6\n",
        "\n",
        "#Balance general\n",
        "#m1 + m2 + m3 = m5 + m6\n",
        "m6 = ((m1*x1)+(m2*x2)+(m3*x3))/x6\n",
        "m5 = m1 + m2 + m3 - m6\n",
        "\n",
        "#Balance intermedios\n",
        "#m1 + m2 + m3 = m4\n",
        "m4 = m1 + m2 + m3\n",
        "\n",
        "x4 = ((m1*x1)+(m2*x2)+(m3*x3))/m4\n",
        "\n",
        "\n",
        "print(f\"m1 = {m1:.2f} kg\")\n",
        "print(f\"x1 = {x1:.2f} grados Brix\")\n",
        "print(f\"m2 = {m2:.2f} kg\")\n",
        "print(f\"x2 = {x2:.2f} grados Brix\")\n",
        "print(f\"m3 = {m3:.2f} kg\")\n",
        "print(f\"x3 = {x3:.2f} grados Brix\")\n",
        "print(f\"m4 = {m4:.2f} kg\")\n",
        "print(f\"x4 = {x4:.2f} grados Brix\")\n",
        "print(f\"m5 = {m5:.2f} kg\")\n",
        "print(f\"x5 = {x5:.2f} grados Brix\")\n",
        "print(f\"m6 = {m6:.2f} kg\")\n",
        "print(f\"x6 = {x6:.2f} grados Brix\")"
      ],
      "metadata": {
        "id": "KPEbK48qMYjY",
        "colab": {
          "base_uri": "https://localhost:8080/"
        },
        "outputId": "89386ef5-8613-4ce4-dd74-02071029b7af"
      },
      "execution_count": 6,
      "outputs": [
        {
          "output_type": "stream",
          "name": "stdout",
          "text": [
            "m1 = 800.00 kg\n",
            "x1 = 0.12 grados Brix\n",
            "m2 = 1.60 kg\n",
            "x2 = 1.00 grados Brix\n",
            "m3 = 896.00 kg\n",
            "x3 = 1.00 grados Brix\n",
            "m4 = 1697.60 kg\n",
            "x4 = 0.59 grados Brix\n",
            "m5 = 41.60 kg\n",
            "x5 = 0.00 grados Brix\n",
            "m6 = 1656.00 kg\n",
            "x6 = 0.60 grados Brix\n"
          ]
        }
      ]
    },
    {
      "cell_type": "markdown",
      "source": [
        "# **Ejercicio 7**\n",
        "\n",
        "En la elaboración de mermelada de piña en una empresa, se mezcla la fruta que contiene 10° Brix, azúcar a proporción de 1.2 kg azúcar/kg fruta y pectina en proporción de 0.009 kg pectina/kg fruta.  La Mezcla pasa por un proceso de cocción para producir mermelada con 60° Brix. Tomando como base 600 kg de fruta, determine:  a) kg de mezcla obtenida, b) kg de agua evaporada durante la cocción y c) kg de mermelada producida."
      ],
      "metadata": {
        "id": "1nrFjvziUivJ"
      }
    },
    {
      "cell_type": "code",
      "source": [
        "# BALANCE DE MATERIA\n",
        "\n",
        "m1 = 600\n",
        "x1 = 0.1\n",
        "y1 = 1-x1\n",
        "razonP = 0.009\n",
        "m2 = razonP*m1\n",
        "x2 = 1\n",
        "y2 = 0\n",
        "razonA = 1.2\n",
        "m3 = razonA*m1\n",
        "x3 = 1\n",
        "y3 = 0\n",
        "m4 = 0\n",
        "x4 = 0\n",
        "y4 = 0\n",
        "m5 = 0\n",
        "x5 = 0\n",
        "y5 = 1\n",
        "m6 = 0\n",
        "x6 = 0.6\n",
        "y6 = 1-x6\n",
        "\n",
        "#Balance general\n",
        "# m1 + m2 + m3 = m5 + m6\n",
        "m6 = ((m1*x1)+(m2*x2)+(m3*x3))/x6\n",
        "m5 = m1 + m2 + m3 - m6\n",
        "\n",
        "#Balance intermedios\n",
        "#m1 + m2 + m3 = m4\n",
        "m4 = m1 + m2 + m3\n",
        "\n",
        "x4 = ((m1*x1)+(m2*x2)+(m3*x3))/m4\n",
        "\n",
        "\n",
        "print(f\"m1 = {m1:.2f} kg\")\n",
        "print(f\"x1 = {x1:.2f} grados Brix\")\n",
        "print(f\"m2 = {m2:.2f} kg\")\n",
        "print(f\"x2 = {x2:.2f} grados Brix\")\n",
        "print(f\"m3 = {m3:.2f} kg\")\n",
        "print(f\"x3 = {x3:.2f} grados Brix\")\n",
        "print(f\"m4 = {m4:.2f} kg\")\n",
        "print(f\"x4 = {x4:.2f} grados Brix\")\n",
        "print(f\"m5 = {m5:.2f} kg\")\n",
        "print(f\"x5 = {x5:.2f} grados Brix\")\n",
        "print(f\"m6 = {m6:.2f} kg\")\n",
        "print(f\"x6 = {x6:.2f} grados Brix\")"
      ],
      "metadata": {
        "colab": {
          "base_uri": "https://localhost:8080/"
        },
        "id": "H0Yr8QhRUiQW",
        "outputId": "a6798f56-3567-4fba-a3bd-2672e52dc9f0"
      },
      "execution_count": 7,
      "outputs": [
        {
          "output_type": "stream",
          "name": "stdout",
          "text": [
            "m1 = 600.00 kg\n",
            "x1 = 0.10 grados Brix\n",
            "m2 = 5.40 kg\n",
            "x2 = 1.00 grados Brix\n",
            "m3 = 720.00 kg\n",
            "x3 = 1.00 grados Brix\n",
            "m4 = 1325.40 kg\n",
            "x4 = 0.59 grados Brix\n",
            "m5 = 16.40 kg\n",
            "x5 = 0.00 grados Brix\n",
            "m6 = 1309.00 kg\n",
            "x6 = 0.60 grados Brix\n"
          ]
        }
      ]
    },
    {
      "cell_type": "markdown",
      "source": [
        "# **Ejercicio 8**\n",
        "\n",
        "Se pretende comercializar una bebida azucarada a base de subproductos de fruta, la cual debe contener una concentración de 60% de azúcar.  Para lograrlo, se cuenta con un jugo de naranja que tiene un 30% de azúcar y un néctar de la misma fruta a una concentración de 70%. ¿Cuántos litros de jugo se debe mezclar con 90 litros del néctar para obtener la bebida deseada?"
      ],
      "metadata": {
        "id": "g_FURWTJzIyR"
      }
    },
    {
      "cell_type": "code",
      "source": [
        "# Datos iniciales\n",
        "\n",
        "m1 = 0 #\n",
        "x1 = 0.3\n",
        "y1 = 1 - x1\n",
        "\n",
        "m2 = 90\n",
        "x2 = 0.7\n",
        "y2 = 1 - x2\n",
        "\n",
        "m3 = 0\n",
        "x3 = 0.6\n",
        "y3 = 1 - x3\n",
        "\n",
        "#Balance general\n",
        "# m1 + m2 = m3\n",
        "\n",
        "#Balance general\n",
        "m1 = ((m2*x2) - (m2*x3))/(x3-x1)\n",
        "\n",
        "print(f\"m1 = {m1:.2f} litros\")"
      ],
      "metadata": {
        "colab": {
          "base_uri": "https://localhost:8080/"
        },
        "id": "Lvq0rb4gzEyy",
        "outputId": "56ae91c4-5668-42a1-9654-52876c030cb5"
      },
      "execution_count": 8,
      "outputs": [
        {
          "output_type": "stream",
          "name": "stdout",
          "text": [
            "m1 = 30.00 litros\n"
          ]
        }
      ]
    }
  ]
}